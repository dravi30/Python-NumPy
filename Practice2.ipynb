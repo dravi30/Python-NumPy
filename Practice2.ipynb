{
 "cells": [
  {
   "cell_type": "markdown",
   "id": "ad7575b2-53c3-4ce2-a597-329b7ff2a9a0",
   "metadata": {},
   "source": [
    "# Import Numpy as np"
   ]
  },
  {
   "cell_type": "code",
   "execution_count": 2,
   "id": "ee60e428-28ed-481d-bb22-694e68585b6f",
   "metadata": {},
   "outputs": [],
   "source": [
    "import numpy as np"
   ]
  },
  {
   "cell_type": "markdown",
   "id": "37054a9d-144e-4842-ab64-00fb1295af04",
   "metadata": {},
   "source": [
    "# Create an array of 10 zeros"
   ]
  },
  {
   "cell_type": "code",
   "execution_count": 3,
   "id": "3a670374-061b-49a2-ad4b-28786712947c",
   "metadata": {},
   "outputs": [
    {
     "name": "stdout",
     "output_type": "stream",
     "text": [
      "[0. 0. 0. 0. 0. 0. 0. 0. 0. 0.]\n"
     ]
    }
   ],
   "source": [
    "a = np.zeros(10)\n",
    "print(a)"
   ]
  },
  {
   "cell_type": "markdown",
   "id": "54343095-8385-4878-ad8a-07c323ac5eda",
   "metadata": {},
   "source": [
    "# Create an array of 10 ones"
   ]
  },
  {
   "cell_type": "code",
   "execution_count": 5,
   "id": "574dffac-7390-4037-a04d-ad7265c11c11",
   "metadata": {},
   "outputs": [
    {
     "name": "stdout",
     "output_type": "stream",
     "text": [
      "[1. 1. 1. 1. 1. 1. 1. 1. 1. 1.]\n"
     ]
    }
   ],
   "source": [
    "b = np.ones(10)\n",
    "print(b)"
   ]
  },
  {
   "cell_type": "markdown",
   "id": "b15fba73-e83f-42f5-a80b-4eab160fa299",
   "metadata": {},
   "source": [
    "# Create an array of the integers from 10 to 50"
   ]
  },
  {
   "cell_type": "code",
   "execution_count": 9,
   "id": "2cfad2d4-bead-4ce9-a43f-1a944b8168c7",
   "metadata": {},
   "outputs": [
    {
     "name": "stdout",
     "output_type": "stream",
     "text": [
      "[10 11 12 13 14 15 16 17 18 19 20 21 22 23 24 25 26 27 28 29 30 31 32 33\n",
      " 34 35 36 37 38 39 40 41 42 43 44 45 46 47 48 49 50]\n"
     ]
    }
   ],
   "source": [
    "c = np.arange(10,51)\n",
    "print(c)"
   ]
  },
  {
   "cell_type": "markdown",
   "id": "b9acb8f2-a87f-4606-af78-e363dfc5702e",
   "metadata": {},
   "source": [
    "# Create an array of the even integers from 10 to 50"
   ]
  },
  {
   "cell_type": "code",
   "execution_count": 10,
   "id": "c34065cf-0dd3-48f9-8899-47671b7662d0",
   "metadata": {},
   "outputs": [
    {
     "name": "stdout",
     "output_type": "stream",
     "text": [
      "[10 12 14 16 18 20 22 24 26 28 30 32 34 36 38 40 42 44 46 48 50]\n"
     ]
    }
   ],
   "source": [
    "d = np.arange(10,51,2)\n",
    "print(d)"
   ]
  },
  {
   "cell_type": "markdown",
   "id": "373844b8-c72c-477c-b19e-3177ecc3834d",
   "metadata": {},
   "source": [
    "# Create a 3*3 matrix with values ranging from 0  to 8"
   ]
  },
  {
   "cell_type": "code",
   "execution_count": 11,
   "id": "7523b8de-dd6c-486f-8658-c995726d85e8",
   "metadata": {},
   "outputs": [
    {
     "data": {
      "text/plain": [
       "array([[0, 1, 2],\n",
       "       [3, 4, 5],\n",
       "       [6, 7, 8]])"
      ]
     },
     "execution_count": 11,
     "metadata": {},
     "output_type": "execute_result"
    }
   ],
   "source": [
    "np.arange(0,9).reshape(3,3)"
   ]
  },
  {
   "cell_type": "markdown",
   "id": "d94179c9-6ecf-4a58-be53-b122eab0eea9",
   "metadata": {},
   "source": [
    "# Create 3*3 identity matrix"
   ]
  },
  {
   "cell_type": "code",
   "execution_count": 12,
   "id": "a4276fa7-8775-4afe-8c19-66dcc5450ae6",
   "metadata": {},
   "outputs": [
    {
     "data": {
      "text/plain": [
       "array([[1., 0., 0.],\n",
       "       [0., 1., 0.],\n",
       "       [0., 0., 1.]])"
      ]
     },
     "execution_count": 12,
     "metadata": {},
     "output_type": "execute_result"
    }
   ],
   "source": [
    "np.eye(3)"
   ]
  },
  {
   "cell_type": "markdown",
   "id": "9aa6fd56-c3f3-4b0c-b703-ba9c78cd2791",
   "metadata": {},
   "source": [
    "# Use NumPy to generate a random number between 0 and 1"
   ]
  },
  {
   "cell_type": "code",
   "execution_count": 16,
   "id": "4fbc3d32-c2b1-45b8-89bf-6e1712f0d7e1",
   "metadata": {},
   "outputs": [
    {
     "data": {
      "text/plain": [
       "array([0.54047911])"
      ]
     },
     "execution_count": 16,
     "metadata": {},
     "output_type": "execute_result"
    }
   ],
   "source": [
    "np.random.rand(1)"
   ]
  },
  {
   "cell_type": "markdown",
   "id": "6a2997d2-da58-4dc8-9797-e296383d23bd",
   "metadata": {},
   "source": [
    "# Use Numpy to generate an array of 25 random numbers sampled from a standard normal distribution"
   ]
  },
  {
   "cell_type": "code",
   "execution_count": 19,
   "id": "27993a21-1e3a-4de5-a0ba-afd36675e63f",
   "metadata": {},
   "outputs": [
    {
     "data": {
      "text/plain": [
       "array([-0.83536162,  0.74449747, -0.1660033 , -0.79043611, -0.32862446,\n",
       "        0.01184764, -0.13565172, -0.1700209 ,  0.62465022,  3.07119335,\n",
       "       -0.20590278, -1.96967112, -0.4475849 , -0.04775366, -0.73512435,\n",
       "        0.28277254, -1.10368291, -0.5293178 ,  0.11069798, -1.3814718 ,\n",
       "       -0.46243556,  0.40254205,  1.14833296,  0.18304347,  1.68027398])"
      ]
     },
     "execution_count": 19,
     "metadata": {},
     "output_type": "execute_result"
    }
   ],
   "source": [
    "np.random.randn(25)"
   ]
  },
  {
   "cell_type": "code",
   "execution_count": 21,
   "id": "edcbb333-ab5f-4817-ae57-4d812c03f980",
   "metadata": {},
   "outputs": [
    {
     "data": {
      "text/plain": [
       "array([[ 1,  2,  3,  4,  5],\n",
       "       [ 6,  7,  8,  9, 10],\n",
       "       [11, 12, 13, 14, 15],\n",
       "       [16, 17, 18, 19, 20],\n",
       "       [21, 22, 23, 24, 25]])"
      ]
     },
     "execution_count": 21,
     "metadata": {},
     "output_type": "execute_result"
    }
   ],
   "source": [
    "mat = np.arange(1,26).reshape(5,5)\n",
    "mat"
   ]
  },
  {
   "cell_type": "markdown",
   "id": "0d65d990-9dc0-4702-812a-30bc7e89530c",
   "metadata": {},
   "source": [
    "# print the portion from 12-15, 17-20, 22-25"
   ]
  },
  {
   "cell_type": "code",
   "execution_count": 22,
   "id": "4914deb8-aee7-4f49-9190-b5d3c029e103",
   "metadata": {},
   "outputs": [
    {
     "data": {
      "text/plain": [
       "array([[12, 13, 14, 15],\n",
       "       [17, 18, 19, 20],\n",
       "       [22, 23, 24, 25]])"
      ]
     },
     "execution_count": 22,
     "metadata": {},
     "output_type": "execute_result"
    }
   ],
   "source": [
    "mat[2:,1:]"
   ]
  },
  {
   "cell_type": "markdown",
   "id": "f156c0ab-ccbc-486d-8863-7c1c1a05b839",
   "metadata": {},
   "source": [
    "# print the element 20 in the matrix"
   ]
  },
  {
   "cell_type": "code",
   "execution_count": 24,
   "id": "cf98e3a1-d776-4eb4-80cb-9a2d4a24d4b4",
   "metadata": {},
   "outputs": [
    {
     "name": "stdout",
     "output_type": "stream",
     "text": [
      "20\n"
     ]
    }
   ],
   "source": [
    "print(mat[3,4])"
   ]
  },
  {
   "cell_type": "markdown",
   "id": "475048cd-013a-469e-8d51-b2cb343e3b80",
   "metadata": {},
   "source": [
    "# print 2,7,12"
   ]
  },
  {
   "cell_type": "code",
   "execution_count": 25,
   "id": "c224ee4e-2f91-4213-97a3-4b060c40910e",
   "metadata": {},
   "outputs": [
    {
     "data": {
      "text/plain": [
       "array([[ 2],\n",
       "       [ 7],\n",
       "       [12]])"
      ]
     },
     "execution_count": 25,
     "metadata": {},
     "output_type": "execute_result"
    }
   ],
   "source": [
    "mat[:3,1:2]"
   ]
  },
  {
   "cell_type": "markdown",
   "id": "ced3dbd0-c5cc-4052-9b11-1988fd3dfe2c",
   "metadata": {},
   "source": [
    "# print the last row"
   ]
  },
  {
   "cell_type": "code",
   "execution_count": 26,
   "id": "4e12373f-cd91-4bf7-be43-9efb59ba623b",
   "metadata": {},
   "outputs": [
    {
     "data": {
      "text/plain": [
       "array([21, 22, 23, 24, 25])"
      ]
     },
     "execution_count": 26,
     "metadata": {},
     "output_type": "execute_result"
    }
   ],
   "source": [
    "mat[4]"
   ]
  },
  {
   "cell_type": "markdown",
   "id": "903fc3d4-aae3-494b-ba0a-74c38f0a8917",
   "metadata": {},
   "source": [
    "# print last 2 row"
   ]
  },
  {
   "cell_type": "code",
   "execution_count": 29,
   "id": "ceec5790-dae6-4207-b2b1-54baca66c68f",
   "metadata": {},
   "outputs": [
    {
     "data": {
      "text/plain": [
       "array([[16, 17, 18, 19, 20],\n",
       "       [21, 22, 23, 24, 25]])"
      ]
     },
     "execution_count": 29,
     "metadata": {},
     "output_type": "execute_result"
    }
   ],
   "source": [
    "mat[3:5]"
   ]
  },
  {
   "cell_type": "markdown",
   "id": "f8009002-c428-4596-ac8e-bcb3e434d3f7",
   "metadata": {},
   "source": [
    "# Get the sum of all the values in mat"
   ]
  },
  {
   "cell_type": "code",
   "execution_count": 31,
   "id": "2c13c3a3-bb97-4215-a61c-ad0749f4f68b",
   "metadata": {},
   "outputs": [
    {
     "name": "stdout",
     "output_type": "stream",
     "text": [
      "325\n"
     ]
    }
   ],
   "source": [
    "print(mat.sum())"
   ]
  },
  {
   "cell_type": "markdown",
   "id": "f4fbb56c-f306-4565-916f-a280d4adcb21",
   "metadata": {},
   "source": [
    "# Get the standard deviation of the values in mat"
   ]
  },
  {
   "cell_type": "code",
   "execution_count": 32,
   "id": "d3eaabc4-dec0-4613-a0be-f623bd37a1ae",
   "metadata": {},
   "outputs": [
    {
     "name": "stdout",
     "output_type": "stream",
     "text": [
      "7.211102550927978\n"
     ]
    }
   ],
   "source": [
    "print(mat.std())"
   ]
  },
  {
   "cell_type": "markdown",
   "id": "f0d96089-2c61-46c6-b10e-82b26d222cc0",
   "metadata": {},
   "source": [
    "# Get the sum of all the columns in mat"
   ]
  },
  {
   "cell_type": "code",
   "execution_count": 33,
   "id": "9187451a-f826-49b6-a979-3b8041901b0a",
   "metadata": {},
   "outputs": [
    {
     "data": {
      "text/plain": [
       "array([55, 60, 65, 70, 75])"
      ]
     },
     "execution_count": 33,
     "metadata": {},
     "output_type": "execute_result"
    }
   ],
   "source": [
    "mat.sum(axis=0) # columns"
   ]
  },
  {
   "cell_type": "code",
   "execution_count": 35,
   "id": "7d83f67d-542d-498d-b5ff-df899656ae94",
   "metadata": {},
   "outputs": [
    {
     "data": {
      "text/plain": [
       "array([ 15,  40,  65,  90, 115])"
      ]
     },
     "execution_count": 35,
     "metadata": {},
     "output_type": "execute_result"
    }
   ],
   "source": [
    "mat.sum(axis=1) #rows"
   ]
  }
 ],
 "metadata": {
  "kernelspec": {
   "display_name": "Python 3 (ipykernel)",
   "language": "python",
   "name": "python3"
  },
  "language_info": {
   "codemirror_mode": {
    "name": "ipython",
    "version": 3
   },
   "file_extension": ".py",
   "mimetype": "text/x-python",
   "name": "python",
   "nbconvert_exporter": "python",
   "pygments_lexer": "ipython3",
   "version": "3.11.4"
  }
 },
 "nbformat": 4,
 "nbformat_minor": 5
}
