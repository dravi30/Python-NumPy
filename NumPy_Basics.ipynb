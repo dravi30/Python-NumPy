{
  "nbformat": 4,
  "nbformat_minor": 0,
  "metadata": {
    "colab": {
      "provenance": []
    },
    "kernelspec": {
      "name": "python3",
      "display_name": "Python 3"
    },
    "language_info": {
      "name": "python"
    }
  },
  "cells": [
    {
      "cell_type": "code",
      "execution_count": null,
      "metadata": {
        "id": "AgalQ__qDiPp"
      },
      "outputs": [],
      "source": [
        "import numpy as np"
      ]
    },
    {
      "cell_type": "code",
      "source": [
        "# 1d array\n",
        "n1 = np.array([3,4,5,6])"
      ],
      "metadata": {
        "id": "OIBXKbsoDopt"
      },
      "execution_count": null,
      "outputs": []
    },
    {
      "cell_type": "code",
      "source": [
        "print(n1)"
      ],
      "metadata": {
        "colab": {
          "base_uri": "https://localhost:8080/"
        },
        "id": "x8AUziXwDupH",
        "outputId": "e7213cdc-22fc-4f55-9c56-102062e1e877"
      },
      "execution_count": null,
      "outputs": [
        {
          "output_type": "stream",
          "name": "stdout",
          "text": [
            "[3 4 5 6]\n"
          ]
        }
      ]
    },
    {
      "cell_type": "code",
      "source": [
        "#2d array\n",
        "n2 = np.array([[3,4,5,6],[7,8,9,1]])\n",
        "print(n2)"
      ],
      "metadata": {
        "colab": {
          "base_uri": "https://localhost:8080/"
        },
        "id": "761N_QMXD1ZH",
        "outputId": "946158d7-8b25-49d8-afd1-04549d02f54c"
      },
      "execution_count": null,
      "outputs": [
        {
          "output_type": "stream",
          "name": "stdout",
          "text": [
            "[[3 4 5 6]\n",
            " [7 8 9 1]]\n"
          ]
        }
      ]
    },
    {
      "cell_type": "code",
      "source": [
        "#zero filled 2d array\n",
        "n3 = np.zeros([3,5],dtype='int32')\n",
        "print(n3)"
      ],
      "metadata": {
        "colab": {
          "base_uri": "https://localhost:8080/"
        },
        "id": "91H4iGxOD1ah",
        "outputId": "2a773b8e-e5bb-48c4-f715-7d270dd88243"
      },
      "execution_count": null,
      "outputs": [
        {
          "output_type": "stream",
          "name": "stdout",
          "text": [
            "[[0 0 0 0 0]\n",
            " [0 0 0 0 0]\n",
            " [0 0 0 0 0]]\n"
          ]
        }
      ]
    },
    {
      "cell_type": "code",
      "source": [
        "#array filled with ones\n",
        "n4 = np.ones([2,3,4], dtype='int32')\n",
        "print(n4)"
      ],
      "metadata": {
        "colab": {
          "base_uri": "https://localhost:8080/"
        },
        "id": "dfUN_XdQE0y4",
        "outputId": "2ad88cee-af9c-4702-d56a-784e3fa31d72"
      },
      "execution_count": null,
      "outputs": [
        {
          "output_type": "stream",
          "name": "stdout",
          "text": [
            "[[[1 1 1 1]\n",
            "  [1 1 1 1]\n",
            "  [1 1 1 1]]\n",
            "\n",
            " [[1 1 1 1]\n",
            "  [1 1 1 1]\n",
            "  [1 1 1 1]]]\n"
          ]
        }
      ]
    },
    {
      "cell_type": "code",
      "source": [
        "#array with range of numbers\n",
        "n5 = np.arange(0,10,2) # a range\n",
        "print(n5)"
      ],
      "metadata": {
        "colab": {
          "base_uri": "https://localhost:8080/"
        },
        "id": "L2-m2PheF5Ms",
        "outputId": "48f2081c-6dc7-41d5-9b48-5a50e5c58b6e"
      },
      "execution_count": null,
      "outputs": [
        {
          "output_type": "stream",
          "name": "stdout",
          "text": [
            "[0 2 4 6 8]\n"
          ]
        }
      ]
    },
    {
      "cell_type": "code",
      "source": [
        "n6 = np.arange(10)\n",
        "print(n6)"
      ],
      "metadata": {
        "colab": {
          "base_uri": "https://localhost:8080/"
        },
        "id": "vXlJ8KqhGlde",
        "outputId": "b3d61c60-091d-4c8e-a428-f4f85291d195"
      },
      "execution_count": null,
      "outputs": [
        {
          "output_type": "stream",
          "name": "stdout",
          "text": [
            "[0 1 2 3 4 5 6 7 8 9]\n"
          ]
        }
      ]
    },
    {
      "cell_type": "code",
      "source": [
        "n7 = np.arange(-5,10,5)\n",
        "print(n7)"
      ],
      "metadata": {
        "colab": {
          "base_uri": "https://localhost:8080/"
        },
        "id": "rCoDqMhDI-yC",
        "outputId": "be7cf650-b549-4641-d2f9-a805c284cfc4"
      },
      "execution_count": null,
      "outputs": [
        {
          "output_type": "stream",
          "name": "stdout",
          "text": [
            "[-5  0  5]\n"
          ]
        }
      ]
    },
    {
      "cell_type": "code",
      "source": [
        "n8 = np.arange(-5,30,5)\n",
        "print(n8)"
      ],
      "metadata": {
        "colab": {
          "base_uri": "https://localhost:8080/"
        },
        "id": "vrUT1AQHJLDH",
        "outputId": "02d420e1-b105-4575-9a5d-7bcfe14b6451"
      },
      "execution_count": null,
      "outputs": [
        {
          "output_type": "stream",
          "name": "stdout",
          "text": [
            "[-5  0  5 10 15 20 25]\n"
          ]
        }
      ]
    },
    {
      "cell_type": "code",
      "source": [
        "n9 = np.full([2,5],99)\n",
        "print(n9)"
      ],
      "metadata": {
        "id": "dUZNRf4cJ6kK",
        "colab": {
          "base_uri": "https://localhost:8080/"
        },
        "outputId": "7770f8b8-0962-47dc-8933-b3929140a330"
      },
      "execution_count": 15,
      "outputs": [
        {
          "output_type": "stream",
          "name": "stdout",
          "text": [
            "[[99 99 99 99 99]\n",
            " [99 99 99 99 99]]\n"
          ]
        }
      ]
    },
    {
      "cell_type": "markdown",
      "source": [
        "## **ACCESSING ARRAY**"
      ],
      "metadata": {
        "id": "I3EKQN2RRC3o"
      }
    },
    {
      "cell_type": "markdown",
      "source": [
        "**Accessing 1 dimensional array**"
      ],
      "metadata": {
        "id": "ajjR_ul8RnsZ"
      }
    },
    {
      "cell_type": "code",
      "source": [
        "print(n1)"
      ],
      "metadata": {
        "colab": {
          "base_uri": "https://localhost:8080/"
        },
        "id": "Fj4fjM1pRMRH",
        "outputId": "407f078d-db24-4a29-b514-bf0cdb9e75f4"
      },
      "execution_count": 16,
      "outputs": [
        {
          "output_type": "stream",
          "name": "stdout",
          "text": [
            "[3 4 5 6]\n"
          ]
        }
      ]
    },
    {
      "cell_type": "code",
      "source": [
        "print(n1[0])"
      ],
      "metadata": {
        "colab": {
          "base_uri": "https://localhost:8080/"
        },
        "id": "32QLEyorRO2v",
        "outputId": "09f44309-46f7-42ce-c8f6-475f2b7d8b21"
      },
      "execution_count": 17,
      "outputs": [
        {
          "output_type": "stream",
          "name": "stdout",
          "text": [
            "3\n"
          ]
        }
      ]
    },
    {
      "cell_type": "code",
      "source": [
        "print(n1[-1])   #Accessing last element in an array\n",
        "print(n1[-2])   #Accessing second last element in an array"
      ],
      "metadata": {
        "colab": {
          "base_uri": "https://localhost:8080/"
        },
        "id": "DL5KYadZRVCg",
        "outputId": "b6555d04-5496-4ce7-fb35-3c50fff768e8"
      },
      "execution_count": 19,
      "outputs": [
        {
          "output_type": "stream",
          "name": "stdout",
          "text": [
            "6\n",
            "5\n"
          ]
        }
      ]
    },
    {
      "cell_type": "markdown",
      "source": [
        "**Accesing 2 dimensional array**"
      ],
      "metadata": {
        "id": "rfhZYNRrRu93"
      }
    },
    {
      "cell_type": "code",
      "source": [
        "print(n2)"
      ],
      "metadata": {
        "colab": {
          "base_uri": "https://localhost:8080/"
        },
        "id": "Sipo-4vtRxLx",
        "outputId": "98644235-9dc7-4c01-8624-9da4c46e8000"
      },
      "execution_count": 20,
      "outputs": [
        {
          "output_type": "stream",
          "name": "stdout",
          "text": [
            "[[3 4 5 6]\n",
            " [7 8 9 1]]\n"
          ]
        }
      ]
    },
    {
      "cell_type": "markdown",
      "source": [
        "[[3 4 5 6]  - 1st row\n",
        "\n",
        " [7 8 9 1]] - 2nd row"
      ],
      "metadata": {
        "id": "0262p42WSDAP"
      }
    },
    {
      "cell_type": "code",
      "source": [
        "print(n2[1,0])"
      ],
      "metadata": {
        "colab": {
          "base_uri": "https://localhost:8080/"
        },
        "id": "SabEL3OvR1zZ",
        "outputId": "ed302b28-faa4-44e5-9a7f-5dac8ff2fd52"
      },
      "execution_count": 21,
      "outputs": [
        {
          "output_type": "stream",
          "name": "stdout",
          "text": [
            "7\n"
          ]
        }
      ]
    },
    {
      "cell_type": "code",
      "source": [
        "print(n2[0,0])\n",
        "print(n2[0,1])\n",
        "print(n2[0,2])\n",
        "print(n2[0,3])"
      ],
      "metadata": {
        "colab": {
          "base_uri": "https://localhost:8080/"
        },
        "id": "Alrqq-JiSLGw",
        "outputId": "d6fb710d-5573-405b-e655-8119c8ec2412"
      },
      "execution_count": 23,
      "outputs": [
        {
          "output_type": "stream",
          "name": "stdout",
          "text": [
            "3\n",
            "4\n",
            "5\n",
            "6\n"
          ]
        }
      ]
    },
    {
      "cell_type": "code",
      "source": [
        "print(n2[0,:])"
      ],
      "metadata": {
        "colab": {
          "base_uri": "https://localhost:8080/"
        },
        "id": "wMTMMvYjSXzg",
        "outputId": "0dfc7f43-ef2f-4a25-eb27-c0b2001e3609"
      },
      "execution_count": 24,
      "outputs": [
        {
          "output_type": "stream",
          "name": "stdout",
          "text": [
            "[3 4 5 6]\n"
          ]
        }
      ]
    },
    {
      "cell_type": "code",
      "source": [
        "print(n2[1,:])"
      ],
      "metadata": {
        "colab": {
          "base_uri": "https://localhost:8080/"
        },
        "id": "1dY7GyqrScQo",
        "outputId": "573149fc-7004-4fb0-b75e-6541c4a971c3"
      },
      "execution_count": 25,
      "outputs": [
        {
          "output_type": "stream",
          "name": "stdout",
          "text": [
            "[7 8 9 1]\n"
          ]
        }
      ]
    },
    {
      "cell_type": "code",
      "source": [
        "print(n2[1,2])"
      ],
      "metadata": {
        "colab": {
          "base_uri": "https://localhost:8080/"
        },
        "id": "VttquHqPSjdZ",
        "outputId": "86d0b0b8-0499-4437-c69f-93f44014ced9"
      },
      "execution_count": 26,
      "outputs": [
        {
          "output_type": "stream",
          "name": "stdout",
          "text": [
            "9\n"
          ]
        }
      ]
    },
    {
      "cell_type": "markdown",
      "source": [
        "if **:** is at last means ->  accessing **row**\n",
        "\n",
        "if **:** is at front means -> accessing **column**"
      ],
      "metadata": {
        "id": "jy1yf70wSvfA"
      }
    },
    {
      "cell_type": "code",
      "source": [
        "print(n2)"
      ],
      "metadata": {
        "colab": {
          "base_uri": "https://localhost:8080/"
        },
        "id": "GWD0Z_b6TJlX",
        "outputId": "041b09a4-17c5-458d-d09e-05e2d715ca43"
      },
      "execution_count": 27,
      "outputs": [
        {
          "output_type": "stream",
          "name": "stdout",
          "text": [
            "[[3 4 5 6]\n",
            " [7 8 9 1]]\n"
          ]
        }
      ]
    },
    {
      "cell_type": "code",
      "source": [
        "print(n2[:,3])"
      ],
      "metadata": {
        "colab": {
          "base_uri": "https://localhost:8080/"
        },
        "id": "z3kcsLgMTDBp",
        "outputId": "aa916b15-1702-4dc7-f56d-a9b10e696127"
      },
      "execution_count": 28,
      "outputs": [
        {
          "output_type": "stream",
          "name": "stdout",
          "text": [
            "[6 1]\n"
          ]
        }
      ]
    },
    {
      "cell_type": "markdown",
      "source": [
        "**Accessing 3 dimensional array**"
      ],
      "metadata": {
        "id": "OY2LHKZdTZPX"
      }
    },
    {
      "cell_type": "code",
      "source": [
        "print(n4)"
      ],
      "metadata": {
        "colab": {
          "base_uri": "https://localhost:8080/"
        },
        "id": "1EXIWufZTYrw",
        "outputId": "268d7185-5c6d-4907-e914-c8283b3232f2"
      },
      "execution_count": 29,
      "outputs": [
        {
          "output_type": "stream",
          "name": "stdout",
          "text": [
            "[[[1 1 1 1]\n",
            "  [1 1 1 1]\n",
            "  [1 1 1 1]]\n",
            "\n",
            " [[1 1 1 1]\n",
            "  [1 1 1 1]\n",
            "  [1 1 1 1]]]\n"
          ]
        }
      ]
    },
    {
      "cell_type": "code",
      "source": [
        "#updating a  3d array\n",
        "# first specify array no, then row no, column no\n",
        "n4[1,1,2] = 10\n",
        "print(n4)"
      ],
      "metadata": {
        "colab": {
          "base_uri": "https://localhost:8080/"
        },
        "id": "5XTmfYA0TyFw",
        "outputId": "56d09a8c-40f3-4d6f-fffb-13dfa12fe3fb"
      },
      "execution_count": 30,
      "outputs": [
        {
          "output_type": "stream",
          "name": "stdout",
          "text": [
            "[[[ 1  1  1  1]\n",
            "  [ 1  1  1  1]\n",
            "  [ 1  1  1  1]]\n",
            "\n",
            " [[ 1  1  1  1]\n",
            "  [ 1  1 10  1]\n",
            "  [ 1  1  1  1]]]\n"
          ]
        }
      ]
    },
    {
      "cell_type": "markdown",
      "source": [
        "## **SIZE AND SHAPE**"
      ],
      "metadata": {
        "id": "zbZ5T9tDUXMG"
      }
    },
    {
      "cell_type": "code",
      "source": [
        "print(n4.ndim)"
      ],
      "metadata": {
        "colab": {
          "base_uri": "https://localhost:8080/"
        },
        "id": "lcOu1azsT48A",
        "outputId": "f37828ab-4216-443a-acfe-9ebc64669e22"
      },
      "execution_count": 31,
      "outputs": [
        {
          "output_type": "stream",
          "name": "stdout",
          "text": [
            "3\n"
          ]
        }
      ]
    },
    {
      "cell_type": "code",
      "source": [
        "print(n4.shape)\n",
        "# 2 block or matrices\n",
        "# 3 rows\n",
        "# 4 columns"
      ],
      "metadata": {
        "colab": {
          "base_uri": "https://localhost:8080/"
        },
        "id": "UX1bj92jUgMY",
        "outputId": "779f0904-8471-4c52-a7d8-0bc479ece5cd"
      },
      "execution_count": 32,
      "outputs": [
        {
          "output_type": "stream",
          "name": "stdout",
          "text": [
            "(2, 3, 4)\n"
          ]
        }
      ]
    },
    {
      "cell_type": "code",
      "source": [
        "print(n4.size)"
      ],
      "metadata": {
        "colab": {
          "base_uri": "https://localhost:8080/"
        },
        "id": "SNagrqVbU5Fl",
        "outputId": "fc37d065-ee47-479e-c973-6809a3280d32"
      },
      "execution_count": 33,
      "outputs": [
        {
          "output_type": "stream",
          "name": "stdout",
          "text": [
            "24\n"
          ]
        }
      ]
    },
    {
      "cell_type": "code",
      "source": [
        "print(n4.dtype)"
      ],
      "metadata": {
        "colab": {
          "base_uri": "https://localhost:8080/"
        },
        "id": "dHqmPfAxU9-N",
        "outputId": "3b26a180-b9e9-4704-d31c-e385d1caf4d2"
      },
      "execution_count": 34,
      "outputs": [
        {
          "output_type": "stream",
          "name": "stdout",
          "text": [
            "int32\n"
          ]
        }
      ]
    },
    {
      "cell_type": "code",
      "source": [
        "print(n4.itemsize) # how many size need for storing each element\n"
      ],
      "metadata": {
        "colab": {
          "base_uri": "https://localhost:8080/"
        },
        "id": "or2ZCg3cVESc",
        "outputId": "1cff87da-15b4-4f40-e6e7-98ab8f6e8ef8"
      },
      "execution_count": 35,
      "outputs": [
        {
          "output_type": "stream",
          "name": "stdout",
          "text": [
            "4\n"
          ]
        }
      ]
    },
    {
      "cell_type": "code",
      "source": [
        "print(n4.nbytes) #24*4 = 96"
      ],
      "metadata": {
        "colab": {
          "base_uri": "https://localhost:8080/"
        },
        "id": "v6rtPQqyVMDV",
        "outputId": "f99a7d1a-f080-45e5-fe14-fbf0c3464ae3"
      },
      "execution_count": 36,
      "outputs": [
        {
          "output_type": "stream",
          "name": "stdout",
          "text": [
            "96\n"
          ]
        }
      ]
    },
    {
      "cell_type": "markdown",
      "source": [
        "# **SORTING**"
      ],
      "metadata": {
        "id": "BvoEsHUjVkZS"
      }
    },
    {
      "cell_type": "code",
      "source": [
        "#1D Array\n",
        "n10 = np.array([2,4,5,9,8,1])\n",
        "np.sort(n10)"
      ],
      "metadata": {
        "colab": {
          "base_uri": "https://localhost:8080/"
        },
        "id": "ud3iSZIcVmov",
        "outputId": "f0f4ce13-f3aa-461b-c797-f5c7091d74be"
      },
      "execution_count": 37,
      "outputs": [
        {
          "output_type": "execute_result",
          "data": {
            "text/plain": [
              "array([1, 2, 4, 5, 8, 9])"
            ]
          },
          "metadata": {},
          "execution_count": 37
        }
      ]
    },
    {
      "cell_type": "code",
      "source": [
        "#2D Array\n",
        "n11 = np.array([[3,8,1],[9,1,3]])\n",
        "np.sort(n11)"
      ],
      "metadata": {
        "colab": {
          "base_uri": "https://localhost:8080/"
        },
        "id": "C5ZpFSzLV7j7",
        "outputId": "4a2f45f5-bc1f-4348-ce12-0f3ca68373bc"
      },
      "execution_count": 38,
      "outputs": [
        {
          "output_type": "execute_result",
          "data": {
            "text/plain": [
              "array([[1, 3, 8],\n",
              "       [1, 3, 9]])"
            ]
          },
          "metadata": {},
          "execution_count": 38
        }
      ]
    },
    {
      "cell_type": "code",
      "source": [
        "print(n11)"
      ],
      "metadata": {
        "colab": {
          "base_uri": "https://localhost:8080/"
        },
        "id": "C_1J7KqHWIwM",
        "outputId": "04742532-ce1d-49e4-d9ec-ea89e710f9e9"
      },
      "execution_count": 39,
      "outputs": [
        {
          "output_type": "stream",
          "name": "stdout",
          "text": [
            "[[3 8 1]\n",
            " [9 1 3]]\n"
          ]
        }
      ]
    },
    {
      "cell_type": "code",
      "source": [
        "#sort column wise.....\n",
        "np.sort(n11,axis=0)"
      ],
      "metadata": {
        "colab": {
          "base_uri": "https://localhost:8080/"
        },
        "id": "MTYzPjAEWfdo",
        "outputId": "1ed7569d-39a4-4acb-9b06-396075ee0127"
      },
      "execution_count": 41,
      "outputs": [
        {
          "output_type": "execute_result",
          "data": {
            "text/plain": [
              "array([[3, 1, 1],\n",
              "       [9, 8, 3]])"
            ]
          },
          "metadata": {},
          "execution_count": 41
        }
      ]
    },
    {
      "cell_type": "markdown",
      "source": [
        "# **Reshaping and Array Conversions**"
      ],
      "metadata": {
        "id": "a1GAyoCOYdvR"
      }
    },
    {
      "cell_type": "code",
      "source": [
        "print(n10)"
      ],
      "metadata": {
        "colab": {
          "base_uri": "https://localhost:8080/"
        },
        "id": "hxStlsk7Yq4X",
        "outputId": "6329a15f-1236-45b4-a8df-793a55d7fcb3"
      },
      "execution_count": 45,
      "outputs": [
        {
          "output_type": "stream",
          "name": "stdout",
          "text": [
            "[2 4 5 9 8 1]\n"
          ]
        }
      ]
    },
    {
      "cell_type": "code",
      "source": [
        "n12 = n10.reshape(3,2)   # in n10 - 6 elements so 3 rows and 2 cols\n",
        "print(n12)"
      ],
      "metadata": {
        "colab": {
          "base_uri": "https://localhost:8080/"
        },
        "id": "QDxcTSu5YhKQ",
        "outputId": "e64dc898-93cb-444a-998e-02ba7fe71cbd"
      },
      "execution_count": 50,
      "outputs": [
        {
          "output_type": "stream",
          "name": "stdout",
          "text": [
            "[[2 4]\n",
            " [5 9]\n",
            " [8 1]]\n"
          ]
        }
      ]
    },
    {
      "cell_type": "code",
      "source": [
        "n13 = n10.reshape(2,3)   # in n10 - 6 elements so 3 rows and 2 cols\n",
        "print(n13)"
      ],
      "metadata": {
        "colab": {
          "base_uri": "https://localhost:8080/"
        },
        "id": "Q3rVeiGpZU3Y",
        "outputId": "76770eed-2bff-4728-f0b1-656132b66c11"
      },
      "execution_count": 51,
      "outputs": [
        {
          "output_type": "stream",
          "name": "stdout",
          "text": [
            "[[2 4 5]\n",
            " [9 8 1]]\n"
          ]
        }
      ]
    },
    {
      "cell_type": "markdown",
      "source": [
        "# Joining 2 arrays"
      ],
      "metadata": {
        "id": "JWWtsV2haB4H"
      }
    },
    {
      "cell_type": "code",
      "source": [
        "n14 = np.arange(4)\n",
        "print(n14)"
      ],
      "metadata": {
        "colab": {
          "base_uri": "https://localhost:8080/"
        },
        "id": "jmBivyDlZoV4",
        "outputId": "9f88d679-8780-4dba-e861-24ef737eee9c"
      },
      "execution_count": 52,
      "outputs": [
        {
          "output_type": "stream",
          "name": "stdout",
          "text": [
            "[0 1 2 3]\n"
          ]
        }
      ]
    },
    {
      "cell_type": "code",
      "source": [
        "n15 = np.arange(5,9)\n",
        "print(n15)"
      ],
      "metadata": {
        "colab": {
          "base_uri": "https://localhost:8080/"
        },
        "id": "FByKwJXYZvc5",
        "outputId": "828986d4-72bb-4591-dce9-ea2911868168"
      },
      "execution_count": 54,
      "outputs": [
        {
          "output_type": "stream",
          "name": "stdout",
          "text": [
            "[5 6 7 8]\n"
          ]
        }
      ]
    },
    {
      "cell_type": "code",
      "source": [
        "n16 = np.concatenate((n14,n15))\n",
        "print(n16)"
      ],
      "metadata": {
        "colab": {
          "base_uri": "https://localhost:8080/"
        },
        "id": "tM_k94TUZ08H",
        "outputId": "08dfa097-df65-4178-b45c-1c8b2c4c5000"
      },
      "execution_count": 56,
      "outputs": [
        {
          "output_type": "stream",
          "name": "stdout",
          "text": [
            "[0 1 2 3 5 6 7 8]\n"
          ]
        }
      ]
    },
    {
      "cell_type": "markdown",
      "source": [
        "# **Indexing and Slicing**"
      ],
      "metadata": {
        "id": "tv1d9jambDjA"
      }
    },
    {
      "cell_type": "code",
      "source": [
        "n17 = np.arange(10)\n",
        "print(n17)"
      ],
      "metadata": {
        "colab": {
          "base_uri": "https://localhost:8080/"
        },
        "id": "0Yt1n9UJbHGf",
        "outputId": "e0ae872c-87fa-477e-a7c9-cb195ae73855"
      },
      "execution_count": 58,
      "outputs": [
        {
          "output_type": "stream",
          "name": "stdout",
          "text": [
            "[0 1 2 3 4 5 6 7 8 9]\n"
          ]
        }
      ]
    },
    {
      "cell_type": "code",
      "source": [
        "print(n17[n17>4])"
      ],
      "metadata": {
        "colab": {
          "base_uri": "https://localhost:8080/"
        },
        "id": "74eBvWXbbr13",
        "outputId": "b7258bae-9565-475e-e132-367e52665d1c"
      },
      "execution_count": 59,
      "outputs": [
        {
          "output_type": "stream",
          "name": "stdout",
          "text": [
            "[5 6 7 8 9]\n"
          ]
        }
      ]
    },
    {
      "cell_type": "code",
      "source": [
        "print(n17[(n17>2) & (n17<8)])"
      ],
      "metadata": {
        "colab": {
          "base_uri": "https://localhost:8080/"
        },
        "id": "mOCguHp4b46T",
        "outputId": "d048bbd9-0f87-4e5d-a2c1-44bae36540f4"
      },
      "execution_count": 60,
      "outputs": [
        {
          "output_type": "stream",
          "name": "stdout",
          "text": [
            "[3 4 5 6 7]\n"
          ]
        }
      ]
    },
    {
      "cell_type": "code",
      "source": [
        "fiveup = n17>5\n",
        "print(fiveup)"
      ],
      "metadata": {
        "colab": {
          "base_uri": "https://localhost:8080/"
        },
        "id": "iHLOCznXcEqL",
        "outputId": "27011160-b86d-40f7-d8aa-0f18ecd21289"
      },
      "execution_count": 61,
      "outputs": [
        {
          "output_type": "stream",
          "name": "stdout",
          "text": [
            "[False False False False False False  True  True  True  True]\n"
          ]
        }
      ]
    },
    {
      "cell_type": "code",
      "source": [
        "print(n17[fiveup])"
      ],
      "metadata": {
        "colab": {
          "base_uri": "https://localhost:8080/"
        },
        "id": "bVQLXkQpcKtU",
        "outputId": "edf743e6-e830-4bee-d045-9ad92008beb3"
      },
      "execution_count": 62,
      "outputs": [
        {
          "output_type": "stream",
          "name": "stdout",
          "text": [
            "[6 7 8 9]\n"
          ]
        }
      ]
    },
    {
      "cell_type": "markdown",
      "source": [
        "Stack, Split"
      ],
      "metadata": {
        "id": "fUcAP0GTcgMP"
      }
    },
    {
      "cell_type": "code",
      "source": [
        "n18 =  np.array([[1,2],[3,4]])\n",
        "n19 = np.array([[5,6],[7,8]])\n",
        "np.hstack((n18,n19))"
      ],
      "metadata": {
        "colab": {
          "base_uri": "https://localhost:8080/"
        },
        "id": "Bfigx0kyciEw",
        "outputId": "95ff4e6e-216a-4069-bfab-bf08e22039d9"
      },
      "execution_count": 65,
      "outputs": [
        {
          "output_type": "execute_result",
          "data": {
            "text/plain": [
              "array([[1, 2, 5, 6],\n",
              "       [3, 4, 7, 8]])"
            ]
          },
          "metadata": {},
          "execution_count": 65
        }
      ]
    },
    {
      "cell_type": "code",
      "source": [
        "np.vstack((n18,n19))"
      ],
      "metadata": {
        "colab": {
          "base_uri": "https://localhost:8080/"
        },
        "id": "XhV9EvgQc-Nv",
        "outputId": "2aeb5539-cc79-4edb-b9fa-b901bc37c65f"
      },
      "execution_count": 66,
      "outputs": [
        {
          "output_type": "execute_result",
          "data": {
            "text/plain": [
              "array([[1, 2],\n",
              "       [3, 4],\n",
              "       [5, 6],\n",
              "       [7, 8]])"
            ]
          },
          "metadata": {},
          "execution_count": 66
        }
      ]
    },
    {
      "cell_type": "code",
      "source": [
        "n20 = np.arange(20)\n",
        "print(n20)"
      ],
      "metadata": {
        "colab": {
          "base_uri": "https://localhost:8080/"
        },
        "id": "7jnZOdsrdG4y",
        "outputId": "c4f161f3-0a8e-4699-f55e-6dd0bd4a9d73"
      },
      "execution_count": 67,
      "outputs": [
        {
          "output_type": "stream",
          "name": "stdout",
          "text": [
            "[ 0  1  2  3  4  5  6  7  8  9 10 11 12 13 14 15 16 17 18 19]\n"
          ]
        }
      ]
    },
    {
      "cell_type": "code",
      "source": [
        "np.hsplit(n20,4)"
      ],
      "metadata": {
        "colab": {
          "base_uri": "https://localhost:8080/"
        },
        "id": "6y5KeAXPdN68",
        "outputId": "c87b823b-1e3f-4404-a182-ca65c4a152f9"
      },
      "execution_count": 68,
      "outputs": [
        {
          "output_type": "execute_result",
          "data": {
            "text/plain": [
              "[array([0, 1, 2, 3, 4]),\n",
              " array([5, 6, 7, 8, 9]),\n",
              " array([10, 11, 12, 13, 14]),\n",
              " array([15, 16, 17, 18, 19])]"
            ]
          },
          "metadata": {},
          "execution_count": 68
        }
      ]
    },
    {
      "cell_type": "markdown",
      "source": [
        "Copy"
      ],
      "metadata": {
        "id": "0NiF9Z44de0e"
      }
    },
    {
      "cell_type": "code",
      "source": [
        "n21 = n20   #shallow copy\n",
        "n20[0] = 30\n",
        "print(n21)\n",
        "print(n20)"
      ],
      "metadata": {
        "colab": {
          "base_uri": "https://localhost:8080/"
        },
        "id": "5olZMkS_df7w",
        "outputId": "40e66ec0-4fbb-4ada-9326-39bb7af36497"
      },
      "execution_count": 75,
      "outputs": [
        {
          "output_type": "stream",
          "name": "stdout",
          "text": [
            "[30 33  2  3  4  5  6  7  8  9 10 11 12 13 14 15 16 17 18 19]\n",
            "[30 33  2  3  4  5  6  7  8  9 10 11 12 13 14 15 16 17 18 19]\n"
          ]
        }
      ]
    },
    {
      "cell_type": "code",
      "source": [
        "#deep  copy\n",
        "\n",
        "n22 = n20.copy()\n",
        "n20[1] = 34\n",
        "print(n20)\n",
        "print(n22)"
      ],
      "metadata": {
        "colab": {
          "base_uri": "https://localhost:8080/"
        },
        "id": "P7hJCNhIeXBq",
        "outputId": "7b73b682-3fae-47e0-c27b-444664ed7ec2"
      },
      "execution_count": 77,
      "outputs": [
        {
          "output_type": "stream",
          "name": "stdout",
          "text": [
            "[30 34  2  3  4  5  6  7  8  9 10 11 12 13 14 15 16 17 18 19]\n",
            "[30 33  2  3  4  5  6  7  8  9 10 11 12 13 14 15 16 17 18 19]\n"
          ]
        }
      ]
    },
    {
      "cell_type": "markdown",
      "source": [
        "Math Operations"
      ],
      "metadata": {
        "id": "6bwCmMehewKI"
      }
    },
    {
      "cell_type": "code",
      "source": [
        "n23 = np.array([2,3,4])\n",
        "print(n23)"
      ],
      "metadata": {
        "colab": {
          "base_uri": "https://localhost:8080/"
        },
        "id": "rjcJaUateyZI",
        "outputId": "ea0beefc-cba1-4bd9-c16d-0455e1d6ef85"
      },
      "execution_count": 78,
      "outputs": [
        {
          "output_type": "stream",
          "name": "stdout",
          "text": [
            "[2 3 4]\n"
          ]
        }
      ]
    },
    {
      "cell_type": "code",
      "source": [
        "n24 = np.array([5,6,7])\n",
        "print(n24)"
      ],
      "metadata": {
        "colab": {
          "base_uri": "https://localhost:8080/"
        },
        "id": "E_x-sQNkfC-P",
        "outputId": "d32480e0-f569-4d52-86f6-4189819fd9a1"
      },
      "execution_count": 79,
      "outputs": [
        {
          "output_type": "stream",
          "name": "stdout",
          "text": [
            "[5 6 7]\n"
          ]
        }
      ]
    },
    {
      "cell_type": "code",
      "source": [
        "print(\"Addition : \" , n23+n24)\n",
        "print(\"Subtraction: \", n23-n24)\n",
        "print(\"Multiplication: \", n23*n24)"
      ],
      "metadata": {
        "colab": {
          "base_uri": "https://localhost:8080/"
        },
        "id": "tlDHzfbpfMVH",
        "outputId": "351160a2-60f0-4c4e-d181-341ff7417e3a"
      },
      "execution_count": 83,
      "outputs": [
        {
          "output_type": "stream",
          "name": "stdout",
          "text": [
            "Addition :  [ 7  9 11]\n",
            "Subtraction:  [-3 -3 -3]\n",
            "Multiplication:  [10 18 28]\n"
          ]
        }
      ]
    },
    {
      "cell_type": "code",
      "source": [
        "print(n23)"
      ],
      "metadata": {
        "colab": {
          "base_uri": "https://localhost:8080/"
        },
        "id": "sIFFKwYEgCC5",
        "outputId": "46a39328-a2af-49d6-f4ea-6ab821ebf5e5"
      },
      "execution_count": 84,
      "outputs": [
        {
          "output_type": "stream",
          "name": "stdout",
          "text": [
            "[2 3 4]\n"
          ]
        }
      ]
    },
    {
      "cell_type": "code",
      "source": [
        "print(n23.sum())\n",
        "print(n23.max())\n",
        "print(n23.min())"
      ],
      "metadata": {
        "colab": {
          "base_uri": "https://localhost:8080/"
        },
        "id": "Fpl1RIKygCEV",
        "outputId": "f8855645-003d-477e-a3ea-439f5087bfa0"
      },
      "execution_count": 85,
      "outputs": [
        {
          "output_type": "stream",
          "name": "stdout",
          "text": [
            "9\n",
            "4\n",
            "2\n"
          ]
        }
      ]
    },
    {
      "cell_type": "code",
      "source": [
        "print(n23*10)"
      ],
      "metadata": {
        "colab": {
          "base_uri": "https://localhost:8080/"
        },
        "id": "v4gfVR_DgRvN",
        "outputId": "5fd53173-f225-4b58-bad0-627884c1d7ff"
      },
      "execution_count": 86,
      "outputs": [
        {
          "output_type": "stream",
          "name": "stdout",
          "text": [
            "[20 30 40]\n"
          ]
        }
      ]
    },
    {
      "cell_type": "markdown",
      "source": [
        "# **Random Numbers**"
      ],
      "metadata": {
        "id": "hKpJ9VrtgaMV"
      }
    },
    {
      "cell_type": "code",
      "source": [
        "np.random.rand(3,3)"
      ],
      "metadata": {
        "colab": {
          "base_uri": "https://localhost:8080/"
        },
        "id": "UEUDNGNugV3p",
        "outputId": "1069eaa0-1ce0-4d7f-f5bb-4313b7a92871"
      },
      "execution_count": 87,
      "outputs": [
        {
          "output_type": "execute_result",
          "data": {
            "text/plain": [
              "array([[0.06665744, 0.90816738, 0.00157074],\n",
              "       [0.58940904, 0.7712196 , 0.94837694],\n",
              "       [0.88796891, 0.21698975, 0.71843048]])"
            ]
          },
          "metadata": {},
          "execution_count": 87
        }
      ]
    },
    {
      "cell_type": "code",
      "source": [
        "np.random.randint(200, size=(4,2))"
      ],
      "metadata": {
        "colab": {
          "base_uri": "https://localhost:8080/"
        },
        "id": "Afidgc4sgjAz",
        "outputId": "db911275-10a7-49c8-baea-ac00a838ff27"
      },
      "execution_count": 89,
      "outputs": [
        {
          "output_type": "execute_result",
          "data": {
            "text/plain": [
              "array([[ 56, 184],\n",
              "       [ 81,  91],\n",
              "       [ 16,  21],\n",
              "       [  9,  15]])"
            ]
          },
          "metadata": {},
          "execution_count": 89
        }
      ]
    }
  ]
}